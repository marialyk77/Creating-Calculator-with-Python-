{
 "cells": [
  {
   "cell_type": "code",
   "execution_count": null,
   "id": "4056b259",
   "metadata": {},
   "outputs": [
    {
     "name": "stdout",
     "output_type": "stream",
     "text": [
      "Enter A for Addition.\n",
      "Enter S for Subtraction.\n",
      "Enter M for Multiplication.\n",
      "Enter D for Division.\n",
      "Enter Choice (A, S, M, D): A\n",
      "Enter first number: 20\n",
      "Enter second number: 30\n",
      "Result:  20.0 + 30.0 = 50.0\n",
      "Do you want to do another calculation? (yes/no?): yes\n",
      "Enter Choice (A, S, M, D): 500\n",
      "Please input a correct choice.\n",
      "Do you want to do another calculation? (yes/no?): yes\n",
      "Enter Choice (A, S, M, D): M\n",
      "Enter first number: 30\n",
      "Enter second number: 20\n",
      "Result:  30.0 * 20.0 = 600.0\n"
     ]
    }
   ],
   "source": [
    "def add(x,y):\n",
    "    return x + y\n",
    "def subtract(x,y):\n",
    "    return x - y\n",
    "def multiply(x,y):\n",
    "    return x * y\n",
    "def divide(x,y):\n",
    "    return x /y\n",
    "\n",
    "\n",
    "print(\"Enter A for Addition.\")\n",
    "print(\"Enter S for Subtraction.\")\n",
    "print(\"Enter M for Multiplication.\")\n",
    "print(\"Enter D for Division.\")\n",
    "\n",
    "\n",
    "while True:\n",
    "    choice = input('Enter Choice (A, S, M, D): ')\n",
    "    \n",
    "    if choice.upper() in ('A', 'ADD', 'ADDITION', 'S', 'SUBTRACT', 'SUBTRACTION', 'M', 'MULTIPLY', 'MULTIPLICATION', 'D', 'DIVIDE', 'DIVISION'):\n",
    "        num1 = float(input('Enter first number: '))\n",
    "\n",
    "        num2 = float(input('Enter second number: '))\n",
    "\n",
    "        if choice.upper() in ('A', 'ADD', 'ADDITION'):\n",
    "            print('Result: ',num1, '+', num2, '=', add(num1,num2))\n",
    "\n",
    "        elif choice.upper() in ('S', 'SUBTRACT', 'SUBTRACTION'):\n",
    "            print('Result: ',num1, '-', num2, '=', subtract(num1,num2))\n",
    "\n",
    "\n",
    "        elif choice.upper() in ('M', 'MULTIPLY', 'MULTIPLICATION'):\n",
    "            print('Result: ',num1, '*', num2, '=', multiply(num1,num2))\n",
    "\n",
    "        elif choice.upper() in ('D', 'DIVIDE', 'DIVISION'):\n",
    "            print('Result: ',num1, '/', num2, '=', divide(num1,num2))\n",
    "\n",
    "    else:\n",
    "        print(\"Please input a correct choice.\")\n",
    "        \n",
    "    next_calculation = input(\"Do you want to do another calculation? (yes/no?): \")\n",
    "    if next_calculation.lower() in ('no', 'nope', 'n'):\n",
    "        break\n"
   ]
  }
 ],
 "metadata": {
  "kernelspec": {
   "display_name": "Python 3 (ipykernel)",
   "language": "python",
   "name": "python3"
  },
  "language_info": {
   "codemirror_mode": {
    "name": "ipython",
    "version": 3
   },
   "file_extension": ".py",
   "mimetype": "text/x-python",
   "name": "python",
   "nbconvert_exporter": "python",
   "pygments_lexer": "ipython3",
   "version": "3.11.5"
  }
 },
 "nbformat": 4,
 "nbformat_minor": 5
}
