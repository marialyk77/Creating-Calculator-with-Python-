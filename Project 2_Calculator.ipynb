{
 "cells": [
  {
   "cell_type": "code",
   "execution_count": 1,
   "id": "99c60d7f",
   "metadata": {},
   "outputs": [],
   "source": [
    "def add(x,y):\n",
    "    return x + y\n",
    "def subtract(x,y):\n",
    "    return x - y\n",
    "def multiply(x,y):\n",
    "    return x * y\n",
    "def divide(x,y):\n",
    "    return x /y\n",
    "    \n",
    "    \n",
    "    \n"
   ]
  },
  {
   "cell_type": "code",
   "execution_count": 2,
   "id": "76731af9",
   "metadata": {},
   "outputs": [
    {
     "name": "stdout",
     "output_type": "stream",
     "text": [
      "Enter Choice (A, S, M, D): A\n",
      "Enter first number: 2\n",
      "Enter second number: 2\n"
     ]
    }
   ],
   "source": [
    "choice = input('Enter Choice (A, S, M, D): ')\n",
    "\n",
    "num1 = float(input('Enter first number: '))\n",
    "\n",
    "num2 = float(input('Enter second number: '))"
   ]
  },
  {
   "cell_type": "code",
   "execution_count": 2,
   "id": "570e4c9b",
   "metadata": {},
   "outputs": [
    {
     "name": "stdout",
     "output_type": "stream",
     "text": [
      "Enter A for Addition.\n",
      "Enter S for Subtraction.\n",
      "Enter M for Multiplication.\n",
      "Enter D for Division.\n",
      "Enter Choice (A, S, M, D): A\n",
      "Enter first number: 10\n",
      "Enter second number: 20\n"
     ]
    },
    {
     "ename": "NameError",
     "evalue": "name 'add' is not defined",
     "output_type": "error",
     "traceback": [
      "\u001b[1;31m---------------------------------------------------------------------------\u001b[0m",
      "\u001b[1;31mNameError\u001b[0m                                 Traceback (most recent call last)",
      "Cell \u001b[1;32mIn[2], line 17\u001b[0m\n\u001b[0;32m     14\u001b[0m num2 \u001b[38;5;241m=\u001b[39m \u001b[38;5;28mfloat\u001b[39m(\u001b[38;5;28minput\u001b[39m(\u001b[38;5;124m'\u001b[39m\u001b[38;5;124mEnter second number: \u001b[39m\u001b[38;5;124m'\u001b[39m))\n\u001b[0;32m     16\u001b[0m \u001b[38;5;28;01mif\u001b[39;00m choice\u001b[38;5;241m.\u001b[39mupper() \u001b[38;5;129;01min\u001b[39;00m (\u001b[38;5;124m'\u001b[39m\u001b[38;5;124mA\u001b[39m\u001b[38;5;124m'\u001b[39m, \u001b[38;5;124m'\u001b[39m\u001b[38;5;124mADD\u001b[39m\u001b[38;5;124m'\u001b[39m, \u001b[38;5;124m'\u001b[39m\u001b[38;5;124mADDITION\u001b[39m\u001b[38;5;124m'\u001b[39m):\n\u001b[1;32m---> 17\u001b[0m     \u001b[38;5;28mprint\u001b[39m(\u001b[38;5;124m'\u001b[39m\u001b[38;5;124mResult: \u001b[39m\u001b[38;5;124m'\u001b[39m,num1, \u001b[38;5;124m'\u001b[39m\u001b[38;5;124m+\u001b[39m\u001b[38;5;124m'\u001b[39m, num2, \u001b[38;5;124m'\u001b[39m\u001b[38;5;124m=\u001b[39m\u001b[38;5;124m'\u001b[39m, add(num1,num2))\n\u001b[0;32m     19\u001b[0m \u001b[38;5;28;01melif\u001b[39;00m choice\u001b[38;5;241m.\u001b[39mupper() \u001b[38;5;129;01min\u001b[39;00m (\u001b[38;5;124m'\u001b[39m\u001b[38;5;124mS\u001b[39m\u001b[38;5;124m'\u001b[39m, \u001b[38;5;124m'\u001b[39m\u001b[38;5;124mSUBTRACT\u001b[39m\u001b[38;5;124m'\u001b[39m, \u001b[38;5;124m'\u001b[39m\u001b[38;5;124mSUBTRACTION\u001b[39m\u001b[38;5;124m'\u001b[39m):\n\u001b[0;32m     20\u001b[0m     \u001b[38;5;28mprint\u001b[39m(\u001b[38;5;124m'\u001b[39m\u001b[38;5;124mResult: \u001b[39m\u001b[38;5;124m'\u001b[39m,num1, \u001b[38;5;124m'\u001b[39m\u001b[38;5;124m-\u001b[39m\u001b[38;5;124m'\u001b[39m, num2, \u001b[38;5;124m'\u001b[39m\u001b[38;5;124m=\u001b[39m\u001b[38;5;124m'\u001b[39m, subtract(num1,num2))\n",
      "\u001b[1;31mNameError\u001b[0m: name 'add' is not defined"
     ]
    }
   ],
   "source": [
    "print(\"Enter A for Addition.\")\n",
    "print(\"Enter S for Subtraction.\")\n",
    "print(\"Enter M for Multiplication.\")\n",
    "print(\"Enter D for Division.\")\n",
    "\n",
    "\n",
    "choice = input('Enter Choice (A, S, M, D): ')\n",
    "\n",
    "\n",
    "\n",
    "if choice.upper() in ('A', 'ADD', 'ADDITION', 'S', 'SUBTRACT', 'SUBTRACTION', 'M', 'MULTIPLY', 'MULTIPLICATION', 'D', 'DIVIDE', 'DIVISION'):\n",
    "    num1 = float(input('Enter first number: '))\n",
    "\n",
    "    num2 = float(input('Enter second number: '))\n",
    "    \n",
    "    if choice.upper() in ('A', 'ADD', 'ADDITION'):\n",
    "        print('Result: ',num1, '+', num2, '=', add(num1,num2))\n",
    "        \n",
    "    elif choice.upper() in ('S', 'SUBTRACT', 'SUBTRACTION'):\n",
    "        print('Result: ',num1, '-', num2, '=', subtract(num1,num2))\n",
    "        \n",
    "               \n",
    "    elif choice.upper() in ('M', 'MULTIPLY', 'MULTIPLICATION'):\n",
    "        print('Result: ',num1, '*', num2, '=', multiply(num1,num2))\n",
    "        \n",
    "    elif choice.upper() in ('D', 'DIVIDE', 'DIVISION'):\n",
    "        print('Result: ',num1, '/', num2, '=', divide(num1,num2))\n",
    "        \n",
    "else:\n",
    "    print(\"Please input a correct choice.\")\n"
   ]
  },
  {
   "cell_type": "code",
   "execution_count": 3,
   "id": "5bb035b1",
   "metadata": {},
   "outputs": [
    {
     "name": "stdout",
     "output_type": "stream",
     "text": [
      "Enter A for Addition.\n",
      "Enter S for Subtraction.\n",
      "Enter M for Multiplication.\n",
      "Enter D for Division.\n",
      "Enter Choice (A, S, M, D): s\n",
      "Enter first number: 20\n",
      "Enter second number: 2\n"
     ]
    },
    {
     "ename": "NameError",
     "evalue": "name 'subtract' is not defined",
     "output_type": "error",
     "traceback": [
      "\u001b[1;31m---------------------------------------------------------------------------\u001b[0m",
      "\u001b[1;31mNameError\u001b[0m                                 Traceback (most recent call last)",
      "Cell \u001b[1;32mIn[3], line 22\u001b[0m\n\u001b[0;32m     19\u001b[0m     \u001b[38;5;28mprint\u001b[39m(\u001b[38;5;124m'\u001b[39m\u001b[38;5;124mResult: \u001b[39m\u001b[38;5;124m'\u001b[39m,num1, \u001b[38;5;124m'\u001b[39m\u001b[38;5;124m+\u001b[39m\u001b[38;5;124m'\u001b[39m, num2, \u001b[38;5;124m'\u001b[39m\u001b[38;5;124m=\u001b[39m\u001b[38;5;124m'\u001b[39m, add(num1,num2))\n\u001b[0;32m     21\u001b[0m \u001b[38;5;28;01melif\u001b[39;00m choice\u001b[38;5;241m.\u001b[39mupper() \u001b[38;5;129;01min\u001b[39;00m (\u001b[38;5;124m'\u001b[39m\u001b[38;5;124mS\u001b[39m\u001b[38;5;124m'\u001b[39m, \u001b[38;5;124m'\u001b[39m\u001b[38;5;124mSUBTRACT\u001b[39m\u001b[38;5;124m'\u001b[39m, \u001b[38;5;124m'\u001b[39m\u001b[38;5;124mSUBTRACTION\u001b[39m\u001b[38;5;124m'\u001b[39m):\n\u001b[1;32m---> 22\u001b[0m     \u001b[38;5;28mprint\u001b[39m(\u001b[38;5;124m'\u001b[39m\u001b[38;5;124mResult: \u001b[39m\u001b[38;5;124m'\u001b[39m,num1, \u001b[38;5;124m'\u001b[39m\u001b[38;5;124m-\u001b[39m\u001b[38;5;124m'\u001b[39m, num2, \u001b[38;5;124m'\u001b[39m\u001b[38;5;124m=\u001b[39m\u001b[38;5;124m'\u001b[39m, subtract(num1,num2))\n\u001b[0;32m     25\u001b[0m \u001b[38;5;28;01melif\u001b[39;00m choice\u001b[38;5;241m.\u001b[39mupper() \u001b[38;5;129;01min\u001b[39;00m (\u001b[38;5;124m'\u001b[39m\u001b[38;5;124mM\u001b[39m\u001b[38;5;124m'\u001b[39m, \u001b[38;5;124m'\u001b[39m\u001b[38;5;124mMULTIPLY\u001b[39m\u001b[38;5;124m'\u001b[39m, \u001b[38;5;124m'\u001b[39m\u001b[38;5;124mMULTIPLICATION\u001b[39m\u001b[38;5;124m'\u001b[39m):\n\u001b[0;32m     26\u001b[0m     \u001b[38;5;28mprint\u001b[39m(\u001b[38;5;124m'\u001b[39m\u001b[38;5;124mResult: \u001b[39m\u001b[38;5;124m'\u001b[39m,num1, \u001b[38;5;124m'\u001b[39m\u001b[38;5;124m*\u001b[39m\u001b[38;5;124m'\u001b[39m, num2, \u001b[38;5;124m'\u001b[39m\u001b[38;5;124m=\u001b[39m\u001b[38;5;124m'\u001b[39m, multiply(num1,num2))\n",
      "\u001b[1;31mNameError\u001b[0m: name 'subtract' is not defined"
     ]
    }
   ],
   "source": [
    "print(\"Enter A for Addition.\")\n",
    "print(\"Enter S for Subtraction.\")\n",
    "print(\"Enter M for Multiplication.\")\n",
    "print(\"Enter D for Division.\")\n",
    "\n",
    "\n",
    "while True:\n",
    "    choice = input('Enter Choice (A, S, M, D): ')\n",
    "    \n",
    "    if choice.upper() in ('A', 'ADD', 'ADDITION', 'S', 'SUBTRACT', 'SUBTRACTION', 'M', 'MULTIPLY', 'MULTIPLICATION', 'D', 'DIVIDE', 'DIVISION'):\n",
    "        num1 = float(input('Enter first number: '))\n",
    "\n",
    "        num2 = float(input('Enter second number: '))\n",
    "\n",
    "        if choice.upper() in ('A', 'ADD', 'ADDITION'):\n",
    "            print('Result: ',num1, '+', num2, '=', add(num1,num2))\n",
    "\n",
    "        elif choice.upper() in ('S', 'SUBTRACT', 'SUBTRACTION'):\n",
    "            print('Result: ',num1, '-', num2, '=', subtract(num1,num2))\n",
    "\n",
    "\n",
    "        elif choice.upper() in ('M', 'MULTIPLY', 'MULTIPLICATION'):\n",
    "            print('Result: ',num1, '*', num2, '=', multiply(num1,num2))\n",
    "\n",
    "        elif choice.upper() in ('D', 'DIVIDE', 'DIVISION'):\n",
    "            print('Result: ',num1, '/', num2, '=', divide(num1,num2))\n",
    "\n",
    "    else:\n",
    "        print(\"Please input a correct choice.\")\n",
    "        \n",
    "    next_calculation = input(\"Do you want to do another calculation? (yes/no?): \")\n",
    "    if next_calculation.lower() in ('no', 'nope', 'n'):\n",
    "        break\n"
   ]
  },
  {
   "cell_type": "code",
   "execution_count": 4,
   "id": "e266658f",
   "metadata": {},
   "outputs": [
    {
     "name": "stdout",
     "output_type": "stream",
     "text": [
      "Enter A for Addition.\n",
      "Enter S for Subtraction.\n",
      "Enter M for Multiplication.\n",
      "Enter D for Division.\n",
      "Enter Choice (A, S, M, D): A\n",
      "Enter first number: 10\n",
      "Enter second number: 20\n",
      "Result:  10.0 + 20.0 = 30.0\n",
      "Do you want to do another calculation? (yes/no?): no\n"
     ]
    }
   ],
   "source": [
    "def add(x,y):\n",
    "    return x + y\n",
    "def subtract(x,y):\n",
    "    return x - y\n",
    "def multiply(x,y):\n",
    "    return x * y\n",
    "def divide(x,y):\n",
    "    return x /y\n",
    "\n",
    "\n",
    "print(\"Enter A for Addition.\")\n",
    "print(\"Enter S for Subtraction.\")\n",
    "print(\"Enter M for Multiplication.\")\n",
    "print(\"Enter D for Division.\")\n",
    "\n",
    "\n",
    "while True:\n",
    "    choice = input('Enter Choice (A, S, M, D): ')\n",
    "    \n",
    "    if choice.upper() in ('A', 'ADD', 'ADDITION', 'S', 'SUBTRACT', 'SUBTRACTION', 'M', 'MULTIPLY', 'MULTIPLICATION', 'D', 'DIVIDE', 'DIVISION'):\n",
    "        num1 = float(input('Enter first number: '))\n",
    "\n",
    "        num2 = float(input('Enter second number: '))\n",
    "\n",
    "        if choice.upper() in ('A', 'ADD', 'ADDITION'):\n",
    "            print('Result: ',num1, '+', num2, '=', add(num1,num2))\n",
    "\n",
    "        elif choice.upper() in ('S', 'SUBTRACT', 'SUBTRACTION'):\n",
    "            print('Result: ',num1, '-', num2, '=', subtract(num1,num2))\n",
    "\n",
    "\n",
    "        elif choice.upper() in ('M', 'MULTIPLY', 'MULTIPLICATION'):\n",
    "            print('Result: ',num1, '*', num2, '=', multiply(num1,num2))\n",
    "\n",
    "        elif choice.upper() in ('D', 'DIVIDE', 'DIVISION'):\n",
    "            print('Result: ',num1, '/', num2, '=', divide(num1,num2))\n",
    "\n",
    "    else:\n",
    "        print(\"Please input a correct choice.\")\n",
    "        \n",
    "    next_calculation = input(\"Do you want to do another calculation? (yes/no?): \")\n",
    "    if next_calculation.lower() in ('no', 'nope', 'n'):\n",
    "        break\n"
   ]
  }
 ],
 "metadata": {
  "kernelspec": {
   "display_name": "Python 3 (ipykernel)",
   "language": "python",
   "name": "python3"
  },
  "language_info": {
   "codemirror_mode": {
    "name": "ipython",
    "version": 3
   },
   "file_extension": ".py",
   "mimetype": "text/x-python",
   "name": "python",
   "nbconvert_exporter": "python",
   "pygments_lexer": "ipython3",
   "version": "3.11.5"
  }
 },
 "nbformat": 4,
 "nbformat_minor": 5
}
